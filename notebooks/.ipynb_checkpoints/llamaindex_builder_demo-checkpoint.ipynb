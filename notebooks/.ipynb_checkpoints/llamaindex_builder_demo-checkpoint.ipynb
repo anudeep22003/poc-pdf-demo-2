{
 "cells": [
  {
   "cell_type": "markdown",
   "id": "133b2820-3de7-46d9-9243-a8026ba4ddc0",
   "metadata": {},
   "source": [
    "## Start by seeing how the pdf is being parsed"
   ]
  },
  {
   "cell_type": "code",
   "execution_count": null,
   "id": "ffe9beed-ccdf-45ce-b2c9-1d56c9dd89d7",
   "metadata": {},
   "outputs": [],
   "source": [
    "import unstructured\n",
    "from unstructured.partition.auto import partition\n",
    "\n",
    "from PIL import Image\n",
    "\n",
    "from collections import defaultdict"
   ]
  },
  {
   "cell_type": "code",
   "execution_count": null,
   "id": "fbef53b2-c350-416d-8ed4-ba81f54a4fcf",
   "metadata": {},
   "outputs": [],
   "source": [
    "elements = partition(filename=\"pdf_to_test/IFU_CEREC_Primemill_EN_6719681.pdf\")"
   ]
  },
  {
   "cell_type": "code",
   "execution_count": null,
   "id": "2fb4bb00-fa4b-4070-b140-dba01e4000f6",
   "metadata": {},
   "outputs": [],
   "source": [
    "from unstructured.partition.pdf import partition_pdf\n",
    "\n",
    "filename=\"pdf_to_test/IFU_CEREC_Primemill_EN_6719681.pdf\"\n",
    "\n",
    "elements = partition_pdf(filename=filename, infer_table_structure=True)\n",
    "tables = [el for el in elements if el.category == \"Table\"]\n",
    "print(tables[0].text)\n",
    "print(tables[0].metadata.text_as_html)"
   ]
  },
  {
   "cell_type": "code",
   "execution_count": null,
   "id": "939c7d08-b892-44a3-afda-cd765e52ab7c",
   "metadata": {},
   "outputs": [],
   "source": [
    "def el_print(els: list):\n",
    "    print(\"-\"*30, \"New Chunk\", \"-\"*30)\n",
    "    for el in els:\n",
    "        print(el.category, el.metadata.page_number, str(el), sep='\\n')\n",
    "    \n",
    "wsize = 1\n",
    "for idx, el in enumerate(elements):\n",
    "    if el.category in [\"Title\", \"Header\"]:\n",
    "        el_print(elements[idx-wsize:idx+wsize+1])"
   ]
  },
  {
   "cell_type": "code",
   "execution_count": null,
   "id": "c3931e6e-51bb-4edd-b9ad-31b15662d362",
   "metadata": {},
   "outputs": [],
   "source": [
    "from collections import Counter\n",
    "\n",
    "textrank = Counter()\n",
    "for el in elements:\n",
    "    textrank.update([str(el)])"
   ]
  },
  {
   "cell_type": "code",
   "execution_count": null,
   "id": "ae397be3-438f-4a7d-8ff9-cbc7e0ad3c81",
   "metadata": {},
   "outputs": [],
   "source": [
    "textrank.most_common()[::-1]"
   ]
  },
  {
   "cell_type": "code",
   "execution_count": null,
   "id": "32af876e-85d5-4fce-a81e-7fd568e7ab5e",
   "metadata": {},
   "outputs": [],
   "source": [
    "# construct into pages\n",
    "paged_text = defaultdict(list)\n",
    "\n",
    "for el in elements:\n",
    "    paged_text[el.metadata.page_number].append(el.text)\n",
    "docs = {k:\"\\n\".join(v) for k,v in paged_text.items()}"
   ]
  },
  {
   "cell_type": "code",
   "execution_count": null,
   "id": "4c049acd-29db-4072-b242-a4a976d33da2",
   "metadata": {},
   "outputs": [],
   "source": [
    "for k,v in docs.items():\n",
    "    print(f\"page={k}\", \"-\"*20, v ,end=\"\\n\"+\"-\"*30+\"\\n\")"
   ]
  }
 ],
 "metadata": {
  "kernelspec": {
   "display_name": "poc-demo-pdf",
   "language": "python",
   "name": "poc-demo-pdf"
  },
  "language_info": {
   "codemirror_mode": {
    "name": "ipython",
    "version": 3
   },
   "file_extension": ".py",
   "mimetype": "text/x-python",
   "name": "python",
   "nbconvert_exporter": "python",
   "pygments_lexer": "ipython3",
   "version": "3.11.5"
  }
 },
 "nbformat": 4,
 "nbformat_minor": 5
}
